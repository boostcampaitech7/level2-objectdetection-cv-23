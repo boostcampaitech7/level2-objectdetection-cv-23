{
 "cells": [
  {
   "cell_type": "code",
   "execution_count": 1,
   "metadata": {},
   "outputs": [],
   "source": [
    "import json\n",
    "import pandas as pd\n",
    "import numpy as np\n",
    "from sklearn.model_selection import StratifiedGroupKFold"
   ]
  },
  {
   "cell_type": "code",
   "execution_count": 12,
   "metadata": {},
   "outputs": [
    {
     "name": "stdout",
     "output_type": "stream",
     "text": [
      "train image:  3897 val image:  986\n",
      "train annotations:  18444 val annotations:  4700\n"
     ]
    }
   ],
   "source": [
    "with open('/data/ephemeral/home/dataset/train.json', 'r') as f:\n",
    "    data = json.load(f)\n",
    "\n",
    "# Create a DataFrame from the JSON data\n",
    "df = pd.DataFrame(data['annotations'])\n",
    "\n",
    "# Extract X, y, and groups\n",
    "X = np.ones((len(df), 1))  # X is just placeholder data\n",
    "y_area = df['area'].values\n",
    "y = np.where(y_area <= 10000.0, 0, np.where(y_area <= 100000.0, 1, 2))\n",
    "\n",
    "groups = df['image_id'].values  # Groups\n",
    "\n",
    "# StratifiedGroupKFold\n",
    "cv = StratifiedGroupKFold(n_splits=5, shuffle=True, random_state=411)\n",
    "\n",
    "for fold, (train_idx, val_idx) in enumerate(cv.split(X, y, groups)):\n",
    "    if fold == 0:\n",
    "        train_image_ids = np.unique(groups[train_idx])\n",
    "        val_image_ids = np.unique(groups[val_idx])\n",
    "\n",
    "        train_annotations = df[df['image_id'].isin(train_image_ids)]\n",
    "        val_annotations = df[df['image_id'].isin(val_image_ids)]\n",
    "\n",
    "        train_coco_format = {\n",
    "            \"images\": [img for img in data['images'] if img['id'] in train_image_ids],\n",
    "            \"annotations\": train_annotations.to_dict(orient='records'),\n",
    "            \"categories\": data['categories']\n",
    "        }\n",
    "\n",
    "        val_coco_format = {\n",
    "            \"images\": [img for img in data['images'] if img['id'] in val_image_ids],\n",
    "            \"annotations\": val_annotations.to_dict(orient='records'),\n",
    "            \"categories\": data['categories']\n",
    "        }\n",
    "\n",
    "        print('train image: ' , len(train_coco_format['images']) , 'val image: ' , len(val_coco_format['images']))\n",
    "        print('train annotations: ' , len(train_coco_format['annotations']) , 'val annotations: ' , len(val_coco_format['annotations']))\n",
    "\n",
    "        with open('/data/ephemeral/home/dataset/train_split_box.json', 'w') as train_file:\n",
    "            json.dump(train_coco_format, train_file)\n",
    "\n",
    "        with open('/data/ephemeral/home/dataset/val_split_box.json', 'w') as val_file:\n",
    "            json.dump(val_coco_format, val_file)\n",
    "\n",
    "        break\n",
    "\n"
   ]
  },
  {
   "cell_type": "code",
   "execution_count": 11,
   "metadata": {},
   "outputs": [
    {
     "name": "stdout",
     "output_type": "stream",
     "text": [
      "0의 개수: 5789\n",
      "1의 개수: 10632\n",
      "2의 개수: 6723\n"
     ]
    }
   ],
   "source": [
    "counts = np.bincount(y)\n",
    "# 결과 출력\n",
    "print(f\"0의 개수: {counts[0]}\")\n",
    "print(f\"1의 개수: {counts[1]}\")\n",
    "print(f\"2의 개수: {counts[2]}\")"
   ]
  },
  {
   "cell_type": "code",
   "execution_count": null,
   "metadata": {},
   "outputs": [],
   "source": []
  }
 ],
 "metadata": {
  "kernelspec": {
   "display_name": "base",
   "language": "python",
   "name": "python3"
  },
  "language_info": {
   "codemirror_mode": {
    "name": "ipython",
    "version": 3
   },
   "file_extension": ".py",
   "mimetype": "text/x-python",
   "name": "python",
   "nbconvert_exporter": "python",
   "pygments_lexer": "ipython3",
   "version": "3.10.13"
  }
 },
 "nbformat": 4,
 "nbformat_minor": 2
}
