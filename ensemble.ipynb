{
 "cells": [
  {
   "cell_type": "code",
   "execution_count": 1,
   "metadata": {},
   "outputs": [],
   "source": [
    "from ensemble_boxes import nms, weighted_boxes_fusion,non_maximum_weighted\n",
    "from pycocotools.coco import COCO\n",
    "import numpy as np\n",
    "import pandas as pd\n"
   ]
  },
  {
   "cell_type": "code",
   "execution_count": 2,
   "metadata": {},
   "outputs": [],
   "source": [
    "# csv 파일 이름 적어주세요\n",
    "root = ['64.csv','61.csv','63.csv']"
   ]
  },
  {
   "cell_type": "code",
   "execution_count": 3,
   "metadata": {},
   "outputs": [
    {
     "name": "stdout",
     "output_type": "stream",
     "text": [
      "['../submission/64.csv', '../submission/61.csv', '../submission/63.csv']\n"
     ]
    }
   ],
   "source": [
    "submission_files = ['../submission/'+ r for r in root]\n",
    "print(submission_files)\n",
    "submission_df = [pd.read_csv(file) for file in submission_files]"
   ]
  },
  {
   "cell_type": "code",
   "execution_count": 4,
   "metadata": {},
   "outputs": [],
   "source": [
    "image_ids = submission_df[0]['image_id'].tolist()"
   ]
  },
  {
   "cell_type": "code",
   "execution_count": 5,
   "metadata": {},
   "outputs": [
    {
     "name": "stdout",
     "output_type": "stream",
     "text": [
      "loading annotations into memory...\n",
      "Done (t=0.01s)\n",
      "creating index...\n",
      "index created!\n"
     ]
    }
   ],
   "source": [
    "# ensemble 할 file의 image 정보를 불러오기 위한 json\n",
    "annotation = '../dataset/test.json'\n",
    "coco = COCO(annotation)"
   ]
  },
  {
   "cell_type": "markdown",
   "metadata": {},
   "source": [
    "# 앙상블\n",
    "### :참고사항:\n",
    "#### ensemble_type 변수를 통해서 사용할 Ensemble 기법을 선택해주세요\n",
    "    ├── NMS \n",
    "    ├── WBF \n",
    "    └── NMW \n"
   ]
  },
  {
   "cell_type": "code",
   "execution_count": 6,
   "metadata": {},
   "outputs": [],
   "source": [
    "prediction_strings = []\n",
    "file_names = []\n",
    "ensemble_type = 'nmw' #[nms, wbf, nmw]\n",
    "\n",
    "\n",
    "# 수치 변경가능!!!\n",
    "# nms의 경우 0.5, wbf와 nmw의 경우 0.55 가 기본값\n",
    "iou_thr = 0.5 #iou threshold 값 설정\n",
    "\n",
    "\n",
    "# 각 모델에 동일한 가중치를 적용\n",
    "# 수치 변경 가능하며 필요 없는 경우 None 으로 바꿔주세요\n",
    "weights = [1] * len(submission_df)  "
   ]
  },
  {
   "cell_type": "code",
   "execution_count": 7,
   "metadata": {},
   "outputs": [],
   "source": [
    "\n",
    "if ensemble_type == 'nms': # NMS\n",
    "    \n",
    "    # 각 image id 별로 submission file에서 box좌표 추출\n",
    "    for i, image_id in enumerate(image_ids):\n",
    "        prediction_string = ''\n",
    "        boxes_list = []\n",
    "        scores_list = []\n",
    "        labels_list = []\n",
    "        image_info = coco.loadImgs(i)[0]\n",
    "        # 각 submission file 별로 prediction box좌표 불러오기\n",
    "        for df in submission_df:\n",
    "            predict_string = df[df['image_id'] == image_id]['PredictionString'].tolist()[0]\n",
    "            predict_list = str(predict_string).split()\n",
    "\n",
    "            if len(predict_list)==0 or len(predict_list)==1:\n",
    "                continue\n",
    "\n",
    "            predict_list = np.reshape(predict_list, (-1, 6))\n",
    "            box_list = []\n",
    "\n",
    "            for box in predict_list[:, 2:6].tolist():\n",
    "                # box의 각 좌표를 float형으로 변환한 후 image의 넓이와 높이로 각각 정규화\n",
    "                image_width = image_info['width']\n",
    "                image_height = image_info['height']\n",
    "                box[0] = float(box[0]) / image_width\n",
    "                box[1] = float(box[1]) / image_height\n",
    "                box[2] = float(box[2]) / image_width\n",
    "                box[3] = float(box[3]) / image_height\n",
    "                box_list.append(box)\n",
    "\n",
    "            boxes_list.append(box_list)\n",
    "            scores_list.append(list(map(float, predict_list[:, 1].tolist())))\n",
    "            labels_list.append(list(map(int, predict_list[:, 0].tolist())))\n",
    "\n",
    "        # 예측 box가 있다면 이를 ensemble 수행\n",
    "        if len(boxes_list):\n",
    "            boxes, scores, labels = nms(boxes_list, scores_list, labels_list, iou_thr=iou_thr)\n",
    "            for box, score, label in zip(boxes, scores, labels):\n",
    "                prediction_string += str(label) + ' ' + str(score) + ' ' + str(box[0] * image_info['width']) + ' ' + str(box[1] * image_info['height']) + ' ' + str(box[2] * image_info['width']) + ' ' + str(box[3] * image_info['height']) + ' '\n",
    "\n",
    "        prediction_strings.append(prediction_string)\n",
    "        file_names.append(image_id)\n",
    "\n",
    "elif ensemble_type == 'wbf':\n",
    "    # 각 image id 별로 submission file에서 box좌표 추출\n",
    "    for i, image_id in enumerate(image_ids):\n",
    "        prediction_string = ''\n",
    "        boxes_list = []\n",
    "        scores_list = []\n",
    "        labels_list = []\n",
    "        image_info = coco.loadImgs(i)[0]\n",
    "        # 각 submission file 별로 prediction box좌표 불러오기\n",
    "        for df in submission_df:\n",
    "            predict_string = df[df['image_id'] == image_id]['PredictionString'].tolist()[0]\n",
    "            predict_list = str(predict_string).split()\n",
    "\n",
    "            if len(predict_list)==0 or len(predict_list)==1:\n",
    "                continue\n",
    "\n",
    "            predict_list = np.reshape(predict_list, (-1, 6))\n",
    "            box_list = []\n",
    "\n",
    "            for box in predict_list[:, 2:6].tolist():\n",
    "                # box의 각 좌표를 float형으로 변환한 후 image의 넓이와 높이로 각각 정규화\n",
    "                image_width = image_info['width']\n",
    "                image_height = image_info['height']\n",
    "                box[0] = float(box[0]) / image_width\n",
    "                box[1] = float(box[1]) / image_height\n",
    "                box[2] = float(box[2]) / image_width\n",
    "                box[3] = float(box[3]) / image_height\n",
    "                box_list.append(box)\n",
    "\n",
    "            boxes_list.append(box_list)\n",
    "            scores_list.append(list(map(float, predict_list[:, 1].tolist())))\n",
    "            labels_list.append(list(map(int, predict_list[:, 0].tolist())))\n",
    "\n",
    "        # 예측 box가 있다면 이를 ensemble 수행\n",
    "        if len(boxes_list):\n",
    "            boxes, scores, labels = nms(boxes_list, scores_list, labels_list, iou_thr=iou_thr)\n",
    "            for box, score, label in zip(boxes, scores, labels):\n",
    "                prediction_string += str(label) + ' ' + str(score) + ' ' + str(box[0] * image_info['width']) + ' ' + str(box[1] * image_info['height']) + ' ' + str(box[2] * image_info['width']) + ' ' + str(box[3] * image_info['height']) + ' '\n",
    "\n",
    "        prediction_strings.append(prediction_string)\n",
    "        file_names.append(image_id)\n",
    "\n",
    "elif ensemble_type == 'nmw':\n",
    "    # 각 image id 별로 submission file에서 box좌표 추출\n",
    "    for i, image_id in enumerate(image_ids):\n",
    "        prediction_string = ''\n",
    "        boxes_list = []\n",
    "        scores_list = []\n",
    "        labels_list = []\n",
    "        image_info = coco.loadImgs(i)[0]\n",
    "        # 각 submission file 별로 prediction box좌표 불러오기\n",
    "        for df in submission_df:\n",
    "            predict_string = df[df['image_id'] == image_id]['PredictionString'].tolist()[0]\n",
    "            predict_list = str(predict_string).split()\n",
    "\n",
    "            if len(predict_list)==0 or len(predict_list)==1:\n",
    "                continue\n",
    "\n",
    "            predict_list = np.reshape(predict_list, (-1, 6))\n",
    "            box_list = []\n",
    "\n",
    "            for box in predict_list[:, 2:6].tolist():\n",
    "                # box의 각 좌표를 float형으로 변환한 후 image의 넓이와 높이로 각각 정규화\n",
    "                image_width = image_info['width']\n",
    "                image_height = image_info['height']\n",
    "                box[0] = float(box[0]) / image_width\n",
    "                box[1] = float(box[1]) / image_height\n",
    "                box[2] = float(box[2]) / image_width\n",
    "                box[3] = float(box[3]) / image_height\n",
    "                box_list.append(box)\n",
    "\n",
    "            boxes_list.append(box_list)\n",
    "            scores_list.append(list(map(float, predict_list[:, 1].tolist())))\n",
    "            labels_list.append(list(map(int, predict_list[:, 0].tolist())))\n",
    "\n",
    "        # 예측 box가 있다면 이를 ensemble 수행\n",
    "        if len(boxes_list):\n",
    "            boxes, scores, labels = non_maximum_weighted(boxes_list, scores_list, labels_list, iou_thr=iou_thr)\n",
    "            for box, score, label in zip(boxes, scores, labels):\n",
    "                prediction_string += str(label) + ' ' + str(score) + ' ' + str(box[0] * image_info['width']) + ' ' + str(box[1] * image_info['height']) + ' ' + str(box[2] * image_info['width']) + ' ' + str(box[3] * image_info['height']) + ' '\n",
    "\n",
    "        prediction_strings.append(prediction_string)\n",
    "        file_names.append(image_id)\n"
   ]
  },
  {
   "cell_type": "code",
   "execution_count": 8,
   "metadata": {},
   "outputs": [
    {
     "data": {
      "text/html": [
       "<div>\n",
       "<style scoped>\n",
       "    .dataframe tbody tr th:only-of-type {\n",
       "        vertical-align: middle;\n",
       "    }\n",
       "\n",
       "    .dataframe tbody tr th {\n",
       "        vertical-align: top;\n",
       "    }\n",
       "\n",
       "    .dataframe thead th {\n",
       "        text-align: right;\n",
       "    }\n",
       "</style>\n",
       "<table border=\"1\" class=\"dataframe\">\n",
       "  <thead>\n",
       "    <tr style=\"text-align: right;\">\n",
       "      <th></th>\n",
       "      <th>PredictionString</th>\n",
       "      <th>image_id</th>\n",
       "    </tr>\n",
       "  </thead>\n",
       "  <tbody>\n",
       "    <tr>\n",
       "      <th>0</th>\n",
       "      <td>7.0 0.96188337 604.2882080078125 522.482177734...</td>\n",
       "      <td>test/0000.jpg</td>\n",
       "    </tr>\n",
       "    <tr>\n",
       "      <th>1</th>\n",
       "      <td>5.0 0.8975634 132.45851135253906 2.28551268577...</td>\n",
       "      <td>test/0001.jpg</td>\n",
       "    </tr>\n",
       "    <tr>\n",
       "      <th>2</th>\n",
       "      <td>1.0 0.8970264 293.44049072265625 304.453918457...</td>\n",
       "      <td>test/0002.jpg</td>\n",
       "    </tr>\n",
       "    <tr>\n",
       "      <th>3</th>\n",
       "      <td>9.0 0.9004024 122.05683135986328 217.889205932...</td>\n",
       "      <td>test/0003.jpg</td>\n",
       "    </tr>\n",
       "    <tr>\n",
       "      <th>4</th>\n",
       "      <td>1.0 0.83189434 193.50387573242188 251.32476806...</td>\n",
       "      <td>test/0004.jpg</td>\n",
       "    </tr>\n",
       "  </tbody>\n",
       "</table>\n",
       "</div>"
      ],
      "text/plain": [
       "                                    PredictionString       image_id\n",
       "0  7.0 0.96188337 604.2882080078125 522.482177734...  test/0000.jpg\n",
       "1  5.0 0.8975634 132.45851135253906 2.28551268577...  test/0001.jpg\n",
       "2  1.0 0.8970264 293.44049072265625 304.453918457...  test/0002.jpg\n",
       "3  9.0 0.9004024 122.05683135986328 217.889205932...  test/0003.jpg\n",
       "4  1.0 0.83189434 193.50387573242188 251.32476806...  test/0004.jpg"
      ]
     },
     "execution_count": 8,
     "metadata": {},
     "output_type": "execute_result"
    }
   ],
   "source": [
    "submission = pd.DataFrame()\n",
    "submission['PredictionString'] = prediction_strings\n",
    "submission['image_id'] = file_names\n",
    "submission.to_csv('../submission/nmw.csv', index=None)\n",
    "submission.head()"
   ]
  },
  {
   "cell_type": "code",
   "execution_count": null,
   "metadata": {},
   "outputs": [],
   "source": []
  }
 ],
 "metadata": {
  "kernelspec": {
   "display_name": "mmdetectV3",
   "language": "python",
   "name": "python3"
  },
  "language_info": {
   "codemirror_mode": {
    "name": "ipython",
    "version": 3
   },
   "file_extension": ".py",
   "mimetype": "text/x-python",
   "name": "python",
   "nbconvert_exporter": "python",
   "pygments_lexer": "ipython3",
   "version": "3.10.13"
  }
 },
 "nbformat": 4,
 "nbformat_minor": 2
}
