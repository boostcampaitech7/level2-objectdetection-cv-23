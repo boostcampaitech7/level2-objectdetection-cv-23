{
 "cells": [
  {
   "cell_type": "code",
   "execution_count": 2,
   "metadata": {},
   "outputs": [
    {
     "name": "stdout",
     "output_type": "stream",
     "text": [
      "Collecting ensemble_boxes\n",
      "  Downloading ensemble_boxes-1.0.9-py3-none-any.whl.metadata (728 bytes)\n",
      "Requirement already satisfied: numpy in c:\\users\\alex0\\anaconda3\\lib\\site-packages (from ensemble_boxes) (1.26.4)\n",
      "Requirement already satisfied: pandas in c:\\users\\alex0\\anaconda3\\lib\\site-packages (from ensemble_boxes) (2.1.4)\n",
      "Requirement already satisfied: numba in c:\\users\\alex0\\anaconda3\\lib\\site-packages (from ensemble_boxes) (0.59.0)\n",
      "Requirement already satisfied: llvmlite<0.43,>=0.42.0dev0 in c:\\users\\alex0\\anaconda3\\lib\\site-packages (from numba->ensemble_boxes) (0.42.0)\n",
      "Requirement already satisfied: python-dateutil>=2.8.2 in c:\\users\\alex0\\anaconda3\\lib\\site-packages (from pandas->ensemble_boxes) (2.8.2)\n",
      "Requirement already satisfied: pytz>=2020.1 in c:\\users\\alex0\\anaconda3\\lib\\site-packages (from pandas->ensemble_boxes) (2023.3.post1)\n",
      "Requirement already satisfied: tzdata>=2022.1 in c:\\users\\alex0\\anaconda3\\lib\\site-packages (from pandas->ensemble_boxes) (2023.3)\n",
      "Requirement already satisfied: six>=1.5 in c:\\users\\alex0\\anaconda3\\lib\\site-packages (from python-dateutil>=2.8.2->pandas->ensemble_boxes) (1.16.0)\n",
      "Downloading ensemble_boxes-1.0.9-py3-none-any.whl (23 kB)\n",
      "Installing collected packages: ensemble_boxes\n",
      "Successfully installed ensemble_boxes-1.0.9\n"
     ]
    }
   ],
   "source": [
    "# ensemble_boxes가 설치 되지 않았을 경우만 실행 해 주세요!\n",
    "!pip install ensemble_boxes"
   ]
  },
  {
   "cell_type": "code",
   "execution_count": 3,
   "metadata": {},
   "outputs": [],
   "source": [
    "from ensemble_boxes import nms, weighted_boxes_fusion\n",
    "from pycocotools.coco import COCO\n",
    "import numpy as np\n",
    "import pandas as pd\n"
   ]
  },
  {
   "cell_type": "code",
   "execution_count": 4,
   "metadata": {},
   "outputs": [],
   "source": [
    "# csv 파일 이름 적어주세요\n",
    "root = ['output_1','output_2','output_3']"
   ]
  },
  {
   "cell_type": "code",
   "execution_count": null,
   "metadata": {},
   "outputs": [],
   "source": [
    "submission_files = ['../submission/'+ r for r in root]\n",
    "print(submission_files)\n",
    "submission_df = [pd.read_csv(file) for file in submission_files]"
   ]
  },
  {
   "cell_type": "code",
   "execution_count": null,
   "metadata": {},
   "outputs": [],
   "source": [
    "image_ids = submission_df[0]['image_id'].tolist()"
   ]
  },
  {
   "cell_type": "code",
   "execution_count": null,
   "metadata": {},
   "outputs": [],
   "source": [
    "# ensemble 할 file의 image 정보를 불러오기 위한 json\n",
    "annotation = '../dataset/test.json'\n",
    "coco = COCO(annotation)"
   ]
  },
  {
   "cell_type": "code",
   "execution_count": null,
   "metadata": {},
   "outputs": [],
   "source": []
  },
  {
   "cell_type": "markdown",
   "metadata": {},
   "source": [
    "# 앙상블\n",
    "### :참고사항:\n",
    "### ensemble_type 변수를 통해서 사용할 Ensemble 기법을 선택해주세요\n",
    "    ├── NMS\n",
    "    ├── WBF\n",
    "    └── MIX(NMS -> WBF)\n",
    "\n"
   ]
  },
  {
   "cell_type": "code",
   "execution_count": null,
   "metadata": {},
   "outputs": [],
   "source": [
    "prediction_strings = []\n",
    "file_names = []\n",
    "ensemble_type = 'nms' #[nms, wbf, mix{만드는 중....}]\n",
    "# 수치 변경가능!!!\n",
    "nms_iou_thr = 0.4 #nms의 iou threshold 값 설정\n",
    "wbf_iou_thr = 0.5 #wbf의 iou threshold 값 설정\n",
    "\n",
    "# 각 모델에 동일한 가중치를 적용\n",
    "# 수치 변경 가능하며 필요 없는 경우 None 으로 바꿔주세요\n",
    "weights = [1] * len(submission_df)  "
   ]
  },
  {
   "cell_type": "code",
   "execution_count": null,
   "metadata": {},
   "outputs": [],
   "source": [
    "\n",
    "if ensemble_type == 'nms': # NMS\n",
    "    \n",
    "    # 각 image id 별로 submission file에서 box좌표 추출\n",
    "    for i, image_id in enumerate(image_ids):\n",
    "        prediction_string = ''\n",
    "        boxes_list = []\n",
    "        scores_list = []\n",
    "        labels_list = []\n",
    "        image_info = coco.loadImgs(i)[0]\n",
    "        # 각 submission file 별로 prediction box좌표 불러오기\n",
    "        for df in submission_df:\n",
    "            predict_string = df[df['image_id'] == image_id]['PredictionString'].tolist()[0]\n",
    "            predict_list = str(predict_string).split()\n",
    "\n",
    "            if len(predict_list)==0 or len(predict_list)==1:\n",
    "                continue\n",
    "\n",
    "            predict_list = np.reshape(predict_list, (-1, 6))\n",
    "            box_list = []\n",
    "\n",
    "            for box in predict_list[:, 2:6].tolist():\n",
    "                # box의 각 좌표를 float형으로 변환한 후 image의 넓이와 높이로 각각 정규화\n",
    "                image_width = image_info['width']\n",
    "                image_height = image_info['height']\n",
    "                box[0] = float(box[0]) / image_width\n",
    "                box[1] = float(box[1]) / image_height\n",
    "                box[2] = float(box[2]) / image_width\n",
    "                box[3] = float(box[3]) / image_height\n",
    "                box_list.append(box)\n",
    "\n",
    "            boxes_list.append(box_list)\n",
    "            scores_list.append(list(map(float, predict_list[:, 1].tolist())))\n",
    "            labels_list.append(list(map(int, predict_list[:, 0].tolist())))\n",
    "\n",
    "        # 예측 box가 있다면 이를 ensemble 수행\n",
    "        if len(boxes_list):\n",
    "            boxes, scores, labels = nms(boxes_list, scores_list, labels_list, iou_thr=nms_iou_thr)\n",
    "            for box, score, label in zip(boxes, scores, labels):\n",
    "                prediction_string += str(label) + ' ' + str(score) + ' ' + str(box[0] * image_info['width']) + ' ' + str(box[1] * image_info['height']) + ' ' + str(box[2] * image_info['width']) + ' ' + str(box[3] * image_info['height']) + ' '\n",
    "\n",
    "        prediction_strings.append(prediction_string)\n",
    "        file_names.append(image_id)\n",
    "\n",
    "elif ensemble_type == 'wbf':\n",
    "    # 각 image id 별로 submission file에서 box좌표 추출\n",
    "    for i, image_id in enumerate(image_ids):\n",
    "        prediction_string = ''\n",
    "        boxes_list = []\n",
    "        scores_list = []\n",
    "        labels_list = []\n",
    "        image_info = coco.loadImgs(i)[0]\n",
    "        # 각 submission file 별로 prediction box좌표 불러오기\n",
    "        for df in submission_df:\n",
    "            predict_string = df[df['image_id'] == image_id]['PredictionString'].tolist()[0]\n",
    "            predict_list = str(predict_string).split()\n",
    "\n",
    "            if len(predict_list)==0 or len(predict_list)==1:\n",
    "                continue\n",
    "\n",
    "            predict_list = np.reshape(predict_list, (-1, 6))\n",
    "            box_list = []\n",
    "\n",
    "            for box in predict_list[:, 2:6].tolist():\n",
    "                # box의 각 좌표를 float형으로 변환한 후 image의 넓이와 높이로 각각 정규화\n",
    "                image_width = image_info['width']\n",
    "                image_height = image_info['height']\n",
    "                box[0] = float(box[0]) / image_width\n",
    "                box[1] = float(box[1]) / image_height\n",
    "                box[2] = float(box[2]) / image_width\n",
    "                box[3] = float(box[3]) / image_height\n",
    "                box_list.append(box)\n",
    "\n",
    "            boxes_list.append(box_list)\n",
    "            scores_list.append(list(map(float, predict_list[:, 1].tolist())))\n",
    "            labels_list.append(list(map(int, predict_list[:, 0].tolist())))\n",
    "\n",
    "        # 예측 box가 있다면 이를 ensemble 수행\n",
    "        if len(boxes_list):\n",
    "            boxes, scores, labels = nms(boxes_list, scores_list, labels_list, iou_thr=wbf_iou_thr)\n",
    "            for box, score, label in zip(boxes, scores, labels):\n",
    "                prediction_string += str(label) + ' ' + str(score) + ' ' + str(box[0] * image_info['width']) + ' ' + str(box[1] * image_info['height']) + ' ' + str(box[2] * image_info['width']) + ' ' + str(box[3] * image_info['height']) + ' '\n",
    "\n",
    "        prediction_strings.append(prediction_string)\n",
    "        file_names.append(image_id)\n",
    "\n",
    "elif ensemble_type == 'mix':\n",
    "\n",
    "    # 각 image id 별로 submission file에서 box 좌표 추출\n",
    "    for i, image_id in enumerate(image_ids):\n",
    "        prediction_string = ''\n",
    "        boxes_list = []\n",
    "        scores_list = []\n",
    "        labels_list = []\n",
    "        image_info = coco.loadImgs(i)[0]\n",
    "        \n",
    "        # 각 submission file 별로 prediction box 좌표 불러오기\n",
    "        for df in submission_df:\n",
    "            predict_string = df[df['image_id'] == image_id]['PredictionString'].tolist()[0]\n",
    "            predict_list = str(predict_string).split()\n",
    "\n",
    "            if len(predict_list) == 0 or len(predict_list) == 1:\n",
    "                continue\n",
    "\n",
    "            predict_list = np.reshape(predict_list, (-1, 6))\n",
    "            box_list = []\n",
    "\n",
    "            for box in predict_list[:, 2:6].tolist():\n",
    "                # box의 각 좌표를 float형으로 변환한 후 image의 넓이와 높이로 각각 정규화\n",
    "                image_width = image_info['width']\n",
    "                image_height = image_info['height']\n",
    "                box[0] = float(box[0]) / image_width\n",
    "                box[1] = float(box[1]) / image_height\n",
    "                box[2] = float(box[2]) / image_width\n",
    "                box[3] = float(box[3]) / image_height\n",
    "                box_list.append(box)\n",
    "\n",
    "            boxes_list.append(box_list)\n",
    "            scores_list.append(list(map(float, predict_list[:, 1].tolist())))\n",
    "            labels_list.append(list(map(int, predict_list[:, 0].tolist())))\n",
    "\n",
    "        # 예측 box가 있다면 NMS 수행\n",
    "        if len(boxes_list):\n",
    "            # NMS 계산 수행\n",
    "            boxes_nms, scores_nms, labels_nms = nms(boxes_list, scores_list, labels_list, iou_thr=nms_iou_thr)\n",
    "\n",
    "            # NMS 후 남은 박스에 대해 WBF 적용\n",
    "            if len(boxes_nms):\n",
    "                # WBF 수행\n",
    "                boxes_wbf, scores_wbf, labels_wbf = weighted_boxes_fusion(boxes_nms, scores_nms, labels_nms, weights=weights, iou_thr=wbf_iou_thr)\n",
    "\n",
    "                for box, score, label in zip(boxes_wbf, scores_wbf, labels_wbf):\n",
    "                    prediction_string += str(label) + ' ' + str(score) + ' ' + str(box[0] * image_info['width']) + ' ' + str(box[1] * image_info['height']) + ' ' + str(box[2] * image_info['width']) + ' ' + str(box[3] * image_info['height']) + ' '\n",
    "\n",
    "        prediction_strings.append(prediction_string)\n",
    "        file_names.append(image_id)\n"
   ]
  },
  {
   "cell_type": "code",
   "execution_count": null,
   "metadata": {},
   "outputs": [],
   "source": [
    "submission = pd.DataFrame()\n",
    "submission['PredictionString'] = prediction_strings\n",
    "submission['image_id'] = file_names\n",
    "submission.to_csv('./submission/submission_ensemble.csv', index=None)\n",
    "submission.head()"
   ]
  }
 ],
 "metadata": {
  "kernelspec": {
   "display_name": "base",
   "language": "python",
   "name": "python3"
  },
  "language_info": {
   "codemirror_mode": {
    "name": "ipython",
    "version": 3
   },
   "file_extension": ".py",
   "mimetype": "text/x-python",
   "name": "python",
   "nbconvert_exporter": "python",
   "pygments_lexer": "ipython3",
   "version": "3.11.7"
  }
 },
 "nbformat": 4,
 "nbformat_minor": 2
}
