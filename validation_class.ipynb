{
 "cells": [
  {
   "cell_type": "code",
   "execution_count": 2,
   "metadata": {},
   "outputs": [],
   "source": [
    "import json\n",
    "import pandas as pd\n",
    "import numpy as np\n",
    "from sklearn.model_selection import StratifiedGroupKFold"
   ]
  },
  {
   "cell_type": "code",
   "execution_count": 5,
   "metadata": {},
   "outputs": [
    {
     "name": "stdout",
     "output_type": "stream",
     "text": [
      "train image:  3914 val image:  969\n",
      "train annotations:  18633 val annotations:  4511\n"
     ]
    }
   ],
   "source": [
    "with open('/data/ephemeral/home/dataset/train.json', 'r') as f:\n",
    "    data = json.load(f)\n",
    "\n",
    "# Create a DataFrame from the JSON data\n",
    "df = pd.DataFrame(data['annotations'])\n",
    "\n",
    "# Extract X, y, and groups\n",
    "X = np.ones((len(df), 1))  # X is just placeholder data\n",
    "y = df['category_id'].values  # Labels\n",
    "groups = df['image_id'].values  # Groups\n",
    "\n",
    "# StratifiedGroupKFold\n",
    "cv = StratifiedGroupKFold(n_splits=5, shuffle=True, random_state=42)\n",
    "\n",
    "for fold, (train_idx, val_idx) in enumerate(cv.split(X, y, groups)):\n",
    "    if fold == 0:\n",
    "        train_image_ids = np.unique(groups[train_idx])\n",
    "        val_image_ids = np.unique(groups[val_idx])\n",
    "\n",
    "        train_annotations = df[df['image_id'].isin(train_image_ids)]\n",
    "        val_annotations = df[df['image_id'].isin(val_image_ids)]\n",
    "\n",
    "        train_coco_format = {\n",
    "            \"images\": [img for img in data['images'] if img['id'] in train_image_ids],\n",
    "            \"annotations\": train_annotations.to_dict(orient='records'),\n",
    "            \"categories\": data['categories']\n",
    "        }\n",
    "\n",
    "        val_coco_format = {\n",
    "            \"images\": [img for img in data['images'] if img['id'] in val_image_ids],\n",
    "            \"annotations\": val_annotations.to_dict(orient='records'),\n",
    "            \"categories\": data['categories']\n",
    "        }\n",
    "\n",
    "        print('train image: ' , len(train_coco_format['images']) , 'val image: ' , len(val_coco_format['images']))\n",
    "        print('train annotations: ' , len(train_coco_format['annotations']) , 'val annotations: ' , len(val_coco_format['annotations']))\n",
    "\n",
    "        with open('/data/ephemeral/home/dataset/train_split_class.json', 'w') as train_file:\n",
    "            json.dump(train_coco_format, train_file)\n",
    "\n",
    "        with open('/data/ephemeral/home/dataset/val_split_class.json', 'w') as val_file:\n",
    "            json.dump(val_coco_format, val_file)\n",
    "\n",
    "        break\n",
    "\n"
   ]
  },
  {
   "cell_type": "code",
   "execution_count": null,
   "metadata": {},
   "outputs": [],
   "source": []
  }
 ],
 "metadata": {
  "kernelspec": {
   "display_name": "base",
   "language": "python",
   "name": "python3"
  },
  "language_info": {
   "codemirror_mode": {
    "name": "ipython",
    "version": 3
   },
   "file_extension": ".py",
   "mimetype": "text/x-python",
   "name": "python",
   "nbconvert_exporter": "python",
   "pygments_lexer": "ipython3",
   "version": "3.10.13"
  }
 },
 "nbformat": 4,
 "nbformat_minor": 2
}
